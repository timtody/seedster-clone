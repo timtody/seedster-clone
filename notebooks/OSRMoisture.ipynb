{
 "cells": [
  {
   "cell_type": "code",
   "execution_count": 1,
   "metadata": {},
   "outputs": [
    {
     "name": "stdout",
     "output_type": "stream",
     "text": [
      "4.5.4\n",
      "1.21.4\n",
      "1.3.4\n",
      "4.62.3\n",
      "0.19.0\n",
      "1.0.1\n"
     ]
    }
   ],
   "source": [
    "\n",
    "import cv2\n",
    "print(cv2.__version__)\n",
    "import os\n",
    "import random\n",
    "import sys\n",
    "import warnings\n",
    "from glob import glob\n",
    "import numpy as np\n",
    "print(np.__version__)\n",
    "import pandas as pd\n",
    "print(pd.__version__)\n",
    "import tqdm\n",
    "print(tqdm.__version__)\n",
    "from tqdm import tqdm\n",
    "import skimage\n",
    "print(skimage.__version__)\n",
    "import sklearn\n",
    "print(sklearn.__version__)"
   ]
  },
  {
   "cell_type": "code",
   "execution_count": 2,
   "metadata": {},
   "outputs": [
    {
     "name": "stdout",
     "output_type": "stream",
     "text": [
      "(2000, 2000, 3)\n",
      "2810.0\n"
     ]
    }
   ],
   "source": [
    "##read and preprocess image \n",
    "IMG_WIDTH=2000\n",
    "IMG_HEIGHT=2000\n",
    "im_path= 'path to your image/Tes1.jpg'\n",
    "img   = cv2.imread(im_path)\n",
    "img_n = img[int((img.shape[0]-IMG_WIDTH)/2):int(img.shape[0]-(img.shape[0]-IMG_WIDTH)/2),int((img.shape[1]-IMG_HEIGHT)/2):int(img.shape[1]-(img.shape[1]-IMG_HEIGHT)/2),:]\n",
    "\n",
    "print(img_n.shape)\n",
    "gray  = cv2.cvtColor(img_n, cv2.COLOR_BGR2GRAY)\n",
    "var_im=cv2.Laplacian(gray, cv2.CV_64F).var()\n",
    "print(np.round(var_im))"
   ]
  },
  {
   "cell_type": "code",
   "execution_count": 3,
   "metadata": {},
   "outputs": [
    {
     "name": "stderr",
     "output_type": "stream",
     "text": [
      "2022-12-12 09:47:35.407849: W tensorflow/stream_executor/platform/default/dso_loader.cc:64] Could not load dynamic library 'libcudart.so.11.0'; dlerror: libcudart.so.11.0: cannot open shared object file: No such file or directory; LD_LIBRARY_PATH: /home/gmjot/.conda/envs/AI4Image/lib/python3.7/site-packages/cv2/../../lib64:\n",
      "2022-12-12 09:47:35.407870: I tensorflow/stream_executor/cuda/cudart_stub.cc:29] Ignore above cudart dlerror if you do not have a GPU set up on your machine.\n"
     ]
    },
    {
     "name": "stdout",
     "output_type": "stream",
     "text": [
      "(1, 224, 224, 3)\n"
     ]
    },
    {
     "name": "stderr",
     "output_type": "stream",
     "text": [
      "2022-12-12 09:47:36.887093: I tensorflow/stream_executor/cuda/cuda_gpu_executor.cc:939] successful NUMA node read from SysFS had negative value (-1), but there must be at least one NUMA node, so returning NUMA node zero\n",
      "2022-12-12 09:47:36.887317: I tensorflow/stream_executor/cuda/cuda_gpu_executor.cc:939] successful NUMA node read from SysFS had negative value (-1), but there must be at least one NUMA node, so returning NUMA node zero\n",
      "2022-12-12 09:47:36.887494: W tensorflow/stream_executor/platform/default/dso_loader.cc:64] Could not load dynamic library 'libcudart.so.11.0'; dlerror: libcudart.so.11.0: cannot open shared object file: No such file or directory; LD_LIBRARY_PATH: /home/gmjot/.conda/envs/AI4Image/lib/python3.7/site-packages/cv2/../../lib64:\n",
      "2022-12-12 09:47:36.887526: W tensorflow/stream_executor/platform/default/dso_loader.cc:64] Could not load dynamic library 'libcublas.so.11'; dlerror: libcublas.so.11: cannot open shared object file: No such file or directory; LD_LIBRARY_PATH: /home/gmjot/.conda/envs/AI4Image/lib/python3.7/site-packages/cv2/../../lib64:\n",
      "2022-12-12 09:47:36.887555: W tensorflow/stream_executor/platform/default/dso_loader.cc:64] Could not load dynamic library 'libcublasLt.so.11'; dlerror: libcublasLt.so.11: cannot open shared object file: No such file or directory; LD_LIBRARY_PATH: /home/gmjot/.conda/envs/AI4Image/lib/python3.7/site-packages/cv2/../../lib64:\n",
      "2022-12-12 09:47:36.887584: W tensorflow/stream_executor/platform/default/dso_loader.cc:64] Could not load dynamic library 'libcufft.so.10'; dlerror: libcufft.so.10: cannot open shared object file: No such file or directory; LD_LIBRARY_PATH: /home/gmjot/.conda/envs/AI4Image/lib/python3.7/site-packages/cv2/../../lib64:\n",
      "2022-12-12 09:47:36.887613: W tensorflow/stream_executor/platform/default/dso_loader.cc:64] Could not load dynamic library 'libcurand.so.10'; dlerror: libcurand.so.10: cannot open shared object file: No such file or directory; LD_LIBRARY_PATH: /home/gmjot/.conda/envs/AI4Image/lib/python3.7/site-packages/cv2/../../lib64:\n",
      "2022-12-12 09:47:36.887640: W tensorflow/stream_executor/platform/default/dso_loader.cc:64] Could not load dynamic library 'libcusolver.so.11'; dlerror: libcusolver.so.11: cannot open shared object file: No such file or directory; LD_LIBRARY_PATH: /home/gmjot/.conda/envs/AI4Image/lib/python3.7/site-packages/cv2/../../lib64:\n",
      "2022-12-12 09:47:36.887668: W tensorflow/stream_executor/platform/default/dso_loader.cc:64] Could not load dynamic library 'libcusparse.so.11'; dlerror: libcusparse.so.11: cannot open shared object file: No such file or directory; LD_LIBRARY_PATH: /home/gmjot/.conda/envs/AI4Image/lib/python3.7/site-packages/cv2/../../lib64:\n",
      "2022-12-12 09:47:36.887697: W tensorflow/stream_executor/platform/default/dso_loader.cc:64] Could not load dynamic library 'libcudnn.so.8'; dlerror: libcudnn.so.8: cannot open shared object file: No such file or directory; LD_LIBRARY_PATH: /home/gmjot/.conda/envs/AI4Image/lib/python3.7/site-packages/cv2/../../lib64:\n",
      "2022-12-12 09:47:36.887703: W tensorflow/core/common_runtime/gpu/gpu_device.cc:1850] Cannot dlopen some GPU libraries. Please make sure the missing libraries mentioned above are installed properly if you would like to use GPU. Follow the guide at https://www.tensorflow.org/install/gpu for how to download and setup the required libraries for your platform.\n",
      "Skipping registering GPU devices...\n",
      "2022-12-12 09:47:36.887841: I tensorflow/core/platform/cpu_feature_guard.cc:151] This TensorFlow binary is optimized with oneAPI Deep Neural Network Library (oneDNN) to use the following CPU instructions in performance-critical operations:  AVX2 FMA\n",
      "To enable them in other operations, rebuild TensorFlow with the appropriate compiler flags.\n"
     ]
    },
    {
     "name": "stdout",
     "output_type": "stream",
     "text": [
      "[[56.94035]]\n"
     ]
    }
   ],
   "source": [
    "from skimage.io import imread, imshow\n",
    "from skimage.transform import resize \n",
    "import itertools\n",
    "import math\n",
    "import warnings\n",
    "import sys\n",
    "\n",
    "import tensorflow.keras as keras\n",
    "from tensorflow.keras.applications import vgg16, inception_v3, resnet50, mobilenet_v2\n",
    "import tensorflow.keras.backend as K\n",
    "from tensorflow.keras.layers import  Dropout, Flatten, Dense, GlobalAveragePooling2D,AveragePooling2D,BatchNormalization\n",
    "from tensorflow.keras.preprocessing import image\n",
    "from tensorflow.keras.applications.resnet50 import preprocess_input\n",
    "from tensorflow.keras.preprocessing.image import ImageDataGenerator\n",
    "from tensorflow.keras.models import Model, load_model\n",
    "from tensorflow.keras.optimizers import Adam\n",
    "from tensorflow.keras.callbacks import EarlyStopping, ModelCheckpoint\n",
    "\n",
    "from sklearn.metrics import mean_squared_error\n",
    "import matplotlib.pyplot as plt\n",
    "import seaborn as sns\n",
    "\n",
    "model_path='path to your model'\n",
    "\n",
    "img          = np.expand_dims(resize(img_n, (224, 224), mode='constant', preserve_range=True),axis=-1)\n",
    "X_Im = img[:,:,:,0][np.newaxis,...]/255\n",
    "\n",
    "print(X_Im.shape)\n",
    "\n",
    "##  load the France model \n",
    "SavedModel = load_model(model_path+'/ResNet50-FranceBasedModel-Val3.h5', compile=False)\n",
    "SavedModel.compile( optimizer=Adam(learning_rate=0.001, beta_1=0.9, beta_2=0.999, epsilon=1e-08,decay=0.0))\n",
    "\n",
    "PRED_Y = SavedModel.predict(X_Im)\n",
    "print(PRED_Y)\n",
    "\n"
   ]
  }
 ],
 "metadata": {
  "kernelspec": {
   "display_name": "Python 3 (ipykernel)",
   "language": "python",
   "name": "python3"
  },
  "language_info": {
   "codemirror_mode": {
    "name": "ipython",
    "version": 3
   },
   "file_extension": ".py",
   "mimetype": "text/x-python",
   "name": "python",
   "nbconvert_exporter": "python",
   "pygments_lexer": "ipython3",
   "version": "3.10.7"
  },
  "vscode": {
   "interpreter": {
    "hash": "6af327042b3cd496885ed89832495e8ee4533a56c8d68f1882a41ac5beb728be"
   }
  }
 },
 "nbformat": 4,
 "nbformat_minor": 2
}
