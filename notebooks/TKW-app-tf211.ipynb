{
 "cells": [
  {
   "attachments": {},
   "cell_type": "markdown",
   "metadata": {},
   "source": [
    "# ***Segmenation and Heatmap***"
   ]
  },
  {
   "cell_type": "code",
   "execution_count": 5,
   "metadata": {},
   "outputs": [
    {
     "data": {
      "text/plain": [
       "'2.11.0'"
      ]
     },
     "execution_count": 5,
     "metadata": {},
     "output_type": "execute_result"
    }
   ],
   "source": [
    "import cv2\n",
    "import numpy as np\n",
    "import tensorflow as tf\n",
    "import tensorflow.keras as keras\n",
    "from keras.callbacks import EarlyStopping, ModelCheckpoint\n",
    "from keras.layers import GlobalAveragePooling2D, Input, Dense, BatchNormalization\n",
    "from keras.layers.convolutional import Conv2D, Conv2DTranspose\n",
    "from keras.layers.core import Dropout, Lambda\n",
    "from keras.layers import concatenate\n",
    "from keras.layers.pooling import MaxPooling2D\n",
    "from keras.models import Model, load_model\n",
    "from keras.preprocessing.image import ImageDataGenerator\n",
    "from keras.utils import array_to_img, img_to_array, load_img\n",
    "from skimage.io import imread, imshow\n",
    "from skimage.transform import resize\n",
    "from scipy import ndimage\n",
    "\n",
    "from tensorflow.keras.metrics import MeanIoU\n",
    "from tensorflow.keras.optimizers import Adam, RMSprop\n",
    "from tensorflow.keras import backend as K\n",
    "import matplotlib.pyplot as plt\n",
    "\n",
    "tf.version.VERSION"
   ]
  },
  {
   "cell_type": "code",
   "execution_count": null,
   "metadata": {},
   "outputs": [],
   "source": [
    "IMG_HEIGHT=1024\n",
    "IMG_WIDTH=1024\n",
    "IMG_CHANNELS=3\n",
    "\n",
    "Seg_path='path to your the segmentation model/'\n",
    "model = load_model(Seg_path+'/SeedSeg-tf11.h5')\n",
    "\n",
    "## preprocess the image for segmentation \n",
    "## the size should be: 4032, 3024, 3\n",
    "im_path='Enter The path to your image/'\n",
    "img   = cv2.imread(im_path+'/IMG_0864.JPG')\n",
    "img   = img[int((img.shape[0]-2000)/2):int(img.shape[0]-(img.shape[0]-2000)/2)\\\n",
    "                 ,int((img.shape[1]-2000)/2):int(img.shape[1]-(img.shape[1]-2000)/2)\\\n",
    "                 ,:] \n",
    "\n",
    "img_n = np.expand_dims(cv2.resize(img, (IMG_HEIGHT, IMG_WIDTH),interpolation = cv2.INTER_AREA),axis=-1)\n",
    "\n",
    "##predict the seed region \n",
    "preds_test    = model.predict(np.expand_dims(img_n, axis=0), verbose=1)\n",
    "predicted_img = np.reshape(preds_test, (IMG_HEIGHT,IMG_WIDTH))\n",
    "nrn           = resize(np.squeeze(predicted_img),(img.shape[0],img.shape[1]), mode='constant', preserve_range=True)\n",
    "nrn           = (nrn > 0.70).astype(np.uint8)\n",
    "mask          = nrn*255\n",
    "#plt.figure()\n",
    "#plt.imshow(mask) \n",
    "#plt.show() \n",
    "\n",
    "## generate heatmap\n",
    "img[np.where(mask==255)] = 225\n",
    "heatmap_img              = cv2.applyColorMap(img[:,:,0], cv2.COLORMAP_JET)\n",
    "#plt.figure()\n",
    "#plt.imshow(mask) \n",
    "#plt.show() \n",
    "\n",
    "#save image \n",
    "save_path= 'path where to save the segmented image/'\n",
    "cv2.imwrite(save_path+'/Heatmap.jpg',heatmap_img)"
   ]
  },
  {
   "attachments": {},
   "cell_type": "markdown",
   "metadata": {},
   "source": [
    "# ***TKW prediction***"
   ]
  },
  {
   "cell_type": "code",
   "execution_count": null,
   "metadata": {},
   "outputs": [],
   "source": [
    "import os\n",
    "import random\n",
    "import numpy as np\n",
    "from skimage.io import imread\n",
    "from skimage.transform import resize \n",
    "\n",
    "import tensorflow.keras as keras\n",
    "from tensorflow.keras.applications import resnet50\n",
    "from tensorflow.keras.layers import  Dropout, Flatten, Dense, GlobalAveragePooling2D,AveragePooling2D,BatchNormalization\n",
    "from tensorflow.keras.preprocessing import image\n",
    "from tensorflow.keras.applications.resnet50 import preprocess_input\n",
    "from tensorflow.keras.preprocessing.image import ImageDataGenerator\n",
    "from tensorflow.keras.models import Model, load_model\n",
    "from tensorflow.keras.optimizers import Adam\n",
    "from tensorflow.keras.callbacks import EarlyStopping, ModelCheckpoint"
   ]
  },
  {
   "cell_type": "code",
   "execution_count": null,
   "metadata": {},
   "outputs": [],
   "source": [
    "img_width   = 224\n",
    "img_height  = 224\n",
    "\n",
    "img= imread(save_path+'/Heatmap.jpg')\n",
    "img = np.expand_dims(resize(img, (img_height, img_width), mode='constant', preserve_range=True),axis=-1)\n",
    "X_Im = img[:,:,:,0][np.newaxis,...]/255\n",
    "\n",
    "model_path='path to the TKW model/'\n",
    "SavedModel = load_model(model_path+'/ResNet50-TKW-all.h5') \n",
    "\n",
    "PRED_train = SavedModel.predict(X_Im)\n",
    "PRED_train = np.around(PRED_train,3)\n",
    "print(PRED_train)"
   ]
  }
 ],
 "metadata": {
  "interpreter": {
   "hash": "6af327042b3cd496885ed89832495e8ee4533a56c8d68f1882a41ac5beb728be"
  },
  "kernelspec": {
   "display_name": "Python 3.7.12 ('AI4Image': conda)",
   "language": "python",
   "name": "python3"
  },
  "language_info": {
   "codemirror_mode": {
    "name": "ipython",
    "version": 3
   },
   "file_extension": ".py",
   "mimetype": "text/x-python",
   "name": "python",
   "nbconvert_exporter": "python",
   "pygments_lexer": "ipython3",
   "version": "3.7.12"
  },
  "orig_nbformat": 4
 },
 "nbformat": 4,
 "nbformat_minor": 2
}
